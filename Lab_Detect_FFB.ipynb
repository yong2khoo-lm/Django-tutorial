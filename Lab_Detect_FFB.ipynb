{
  "cells": [
    {
      "cell_type": "markdown",
      "metadata": {
        "id": "view-in-github",
        "colab_type": "text"
      },
      "source": [
        "<a href=\"https://colab.research.google.com/github/yong2khoo-lm/Django-tutorial/blob/main/Lab_Detect_FFB.ipynb\" target=\"_parent\"><img src=\"https://colab.research.google.com/assets/colab-badge.svg\" alt=\"Open In Colab\"/></a>"
      ]
    },
    {
      "cell_type": "code",
      "execution_count": null,
      "metadata": {
        "id": "pWUEoXrY21oe",
        "colab": {
          "base_uri": "https://localhost:8080/"
        },
        "outputId": "6c557331-916a-49e8-a471-3f1a2af614b4"
      },
      "outputs": [
        {
          "output_type": "stream",
          "name": "stdout",
          "text": [
            "\u001b[K     |████████████████████████████████| 577 kB 6.3 MB/s \n",
            "\u001b[K     |████████████████████████████████| 840 kB 56.7 MB/s \n",
            "\u001b[K     |████████████████████████████████| 60.9 MB 1.6 MB/s \n",
            "\u001b[K     |████████████████████████████████| 10.9 MB 38.5 MB/s \n",
            "\u001b[K     |████████████████████████████████| 238 kB 55.0 MB/s \n",
            "\u001b[K     |████████████████████████████████| 77 kB 4.8 MB/s \n",
            "\u001b[K     |████████████████████████████████| 1.3 MB 62.2 MB/s \n",
            "\u001b[K     |████████████████████████████████| 1.1 MB 12.6 MB/s \n",
            "\u001b[K     |████████████████████████████████| 3.4 MB 52.7 MB/s \n",
            "\u001b[K     |████████████████████████████████| 128 kB 72.6 MB/s \n",
            "\u001b[K     |████████████████████████████████| 87 kB 6.9 MB/s \n",
            "\u001b[K     |████████████████████████████████| 25.3 MB 1.4 MB/s \n",
            "\u001b[K     |████████████████████████████████| 497.9 MB 4.2 kB/s \n",
            "\u001b[K     |████████████████████████████████| 352 kB 58.4 MB/s \n",
            "\u001b[K     |████████████████████████████████| 1.4 MB 52.0 MB/s \n",
            "\u001b[K     |████████████████████████████████| 462 kB 67.8 MB/s \n",
            "\u001b[K     |████████████████████████████████| 5.8 MB 46.6 MB/s \n",
            "\u001b[K     |████████████████████████████████| 40 kB 6.1 MB/s \n",
            "\u001b[K     |████████████████████████████████| 216 kB 73.2 MB/s \n",
            "\u001b[?25h  Building wheel for fire (setup.py) ... \u001b[?25l\u001b[?25hdone\n"
          ]
        }
      ],
      "source": [
        "!pip install -q tflite-model-maker\n",
        "!pip install -q tflite-support"
      ]
    },
    {
      "cell_type": "code",
      "execution_count": null,
      "metadata": {
        "id": "G5r4zV_L2_av"
      },
      "outputs": [],
      "source": [
        "import numpy as np\n",
        "import os\n",
        "\n",
        "from tflite_model_maker.config import ExportFormat, QuantizationConfig\n",
        "from tflite_model_maker import model_spec\n",
        "from tflite_model_maker import object_detector\n",
        "\n",
        "from tflite_support import metadata\n",
        "\n",
        "import tensorflow as tf\n",
        "assert tf.__version__.startswith('2')\n",
        "\n",
        "tf.get_logger().setLevel('ERROR')\n",
        "from absl import logging\n",
        "logging.set_verbosity(logging.ERROR)"
      ]
    },
    {
      "cell_type": "markdown",
      "metadata": {
        "id": "YkdbwBt55Zqp"
      },
      "source": [
        "# New Section"
      ]
    },
    {
      "cell_type": "code",
      "execution_count": null,
      "metadata": {
        "id": "ikf6z97u_g2y"
      },
      "outputs": [],
      "source": [
        "import os.path\n",
        "from google.colab import drive\n",
        "drive.mount('/content/drive')"
      ]
    },
    {
      "cell_type": "code",
      "execution_count": null,
      "metadata": {
        "id": "E3ktoLet31QH"
      },
      "outputs": [],
      "source": [
        "train_data = object_detector.DataLoader.from_pascal_voc(\n",
        "    '/content/drive/MyDrive/Lab/FFB_202210/train',\n",
        "    '/content/drive/MyDrive/Lab/FFB_202210/train',\n",
        "    ['ffb']\n",
        ")\n",
        "\n",
        "val_data = object_detector.DataLoader.from_pascal_voc(\n",
        "    '/content/drive/MyDrive/Lab/FFB_202210/validate',\n",
        "    '/content/drive/MyDrive/Lab/FFB_202210/validate',\n",
        "    ['ffb']\n",
        ")\n",
        "\n"
      ]
    },
    {
      "cell_type": "code",
      "source": [
        "type(train_data)"
      ],
      "metadata": {
        "colab": {
          "base_uri": "https://localhost:8080/"
        },
        "id": "QrsgalIGWnkO",
        "outputId": "1c72af2e-5207-442c-d679-7b8f1be4d25a"
      },
      "execution_count": null,
      "outputs": [
        {
          "output_type": "execute_result",
          "data": {
            "text/plain": [
              "tensorflow_examples.lite.model_maker.core.data_util.object_detector_dataloader.DataLoader"
            ]
          },
          "metadata": {},
          "execution_count": 6
        }
      ]
    },
    {
      "cell_type": "markdown",
      "metadata": {
        "id": "vH69BrGmAQoM"
      },
      "source": []
    },
    {
      "cell_type": "code",
      "execution_count": null,
      "metadata": {
        "id": "A06qBzm782xL"
      },
      "outputs": [],
      "source": [
        "VERSION_EFF_LITE = 3\n",
        "spec = model_spec.get(f'efficientdet_lite{VERSION_EFF_LITE}')"
      ]
    },
    {
      "cell_type": "code",
      "execution_count": null,
      "metadata": {
        "colab": {
          "base_uri": "https://localhost:8080/"
        },
        "id": "kzN8_F5zBCwH",
        "outputId": "4dd843ef-2037-4324-ce5e-13448397a9be"
      },
      "outputs": [
        {
          "output_type": "stream",
          "name": "stdout",
          "text": [
            "Epoch 1/25\n",
            "87/87 [==============================] - 94s 467ms/step - det_loss: 1.4053 - cls_loss: 0.8638 - box_loss: 0.0108 - reg_l2_loss: 0.0926 - loss: 1.4979 - learning_rate: 0.0065 - gradient_norm: 3.6705 - val_det_loss: 0.7619 - val_cls_loss: 0.4538 - val_box_loss: 0.0062 - val_reg_l2_loss: 0.0927 - val_loss: 0.8546\n",
            "Epoch 2/25\n",
            "87/87 [==============================] - 39s 445ms/step - det_loss: 1.1059 - cls_loss: 0.6314 - box_loss: 0.0095 - reg_l2_loss: 0.0927 - loss: 1.1986 - learning_rate: 0.0050 - gradient_norm: 3.6883 - val_det_loss: 0.6089 - val_cls_loss: 0.4210 - val_box_loss: 0.0038 - val_reg_l2_loss: 0.0927 - val_loss: 0.7016\n",
            "Epoch 3/25\n",
            "87/87 [==============================] - 40s 465ms/step - det_loss: 1.0527 - cls_loss: 0.6043 - box_loss: 0.0090 - reg_l2_loss: 0.0927 - loss: 1.1454 - learning_rate: 0.0049 - gradient_norm: 3.2553 - val_det_loss: 0.4848 - val_cls_loss: 0.3545 - val_box_loss: 0.0026 - val_reg_l2_loss: 0.0927 - val_loss: 0.5775\n",
            "Epoch 4/25\n",
            "87/87 [==============================] - 39s 443ms/step - det_loss: 1.0019 - cls_loss: 0.5773 - box_loss: 0.0085 - reg_l2_loss: 0.0928 - loss: 1.0947 - learning_rate: 0.0047 - gradient_norm: 3.3269 - val_det_loss: 0.4508 - val_cls_loss: 0.3248 - val_box_loss: 0.0025 - val_reg_l2_loss: 0.0928 - val_loss: 0.5436\n",
            "Epoch 5/25\n",
            "87/87 [==============================] - 46s 533ms/step - det_loss: 0.9943 - cls_loss: 0.5715 - box_loss: 0.0085 - reg_l2_loss: 0.0928 - loss: 1.0871 - learning_rate: 0.0046 - gradient_norm: 2.8530 - val_det_loss: 0.4597 - val_cls_loss: 0.3398 - val_box_loss: 0.0024 - val_reg_l2_loss: 0.0928 - val_loss: 0.5525\n",
            "Epoch 6/25\n",
            "87/87 [==============================] - 39s 447ms/step - det_loss: 0.9382 - cls_loss: 0.5476 - box_loss: 0.0078 - reg_l2_loss: 0.0928 - loss: 1.0309 - learning_rate: 0.0044 - gradient_norm: 2.9327 - val_det_loss: 0.3603 - val_cls_loss: 0.2683 - val_box_loss: 0.0018 - val_reg_l2_loss: 0.0928 - val_loss: 0.4531\n",
            "Epoch 7/25\n",
            "87/87 [==============================] - 39s 447ms/step - det_loss: 0.9449 - cls_loss: 0.5513 - box_loss: 0.0079 - reg_l2_loss: 0.0928 - loss: 1.0377 - learning_rate: 0.0041 - gradient_norm: 3.0249 - val_det_loss: 0.4647 - val_cls_loss: 0.3660 - val_box_loss: 0.0020 - val_reg_l2_loss: 0.0928 - val_loss: 0.5575\n",
            "Epoch 8/25\n",
            "87/87 [==============================] - 41s 471ms/step - det_loss: 0.9305 - cls_loss: 0.5419 - box_loss: 0.0078 - reg_l2_loss: 0.0928 - loss: 1.0233 - learning_rate: 0.0039 - gradient_norm: 3.0052 - val_det_loss: 0.4968 - val_cls_loss: 0.4123 - val_box_loss: 0.0017 - val_reg_l2_loss: 0.0928 - val_loss: 0.5896\n",
            "Epoch 9/25\n",
            "87/87 [==============================] - 39s 448ms/step - det_loss: 0.9179 - cls_loss: 0.5362 - box_loss: 0.0076 - reg_l2_loss: 0.0928 - loss: 1.0107 - learning_rate: 0.0036 - gradient_norm: 2.8775 - val_det_loss: 0.4521 - val_cls_loss: 0.3499 - val_box_loss: 0.0020 - val_reg_l2_loss: 0.0928 - val_loss: 0.5449\n",
            "Epoch 10/25\n",
            "87/87 [==============================] - 41s 471ms/step - det_loss: 0.9275 - cls_loss: 0.5409 - box_loss: 0.0077 - reg_l2_loss: 0.0928 - loss: 1.0203 - learning_rate: 0.0033 - gradient_norm: 2.9180 - val_det_loss: 0.4559 - val_cls_loss: 0.3641 - val_box_loss: 0.0018 - val_reg_l2_loss: 0.0928 - val_loss: 0.5487\n",
            "Epoch 11/25\n",
            "87/87 [==============================] - 40s 456ms/step - det_loss: 0.9068 - cls_loss: 0.5300 - box_loss: 0.0075 - reg_l2_loss: 0.0928 - loss: 0.9996 - learning_rate: 0.0030 - gradient_norm: 2.9079 - val_det_loss: 0.4369 - val_cls_loss: 0.3456 - val_box_loss: 0.0018 - val_reg_l2_loss: 0.0928 - val_loss: 0.5297\n",
            "Epoch 12/25\n",
            "87/87 [==============================] - 39s 449ms/step - det_loss: 0.9070 - cls_loss: 0.5288 - box_loss: 0.0076 - reg_l2_loss: 0.0928 - loss: 0.9998 - learning_rate: 0.0027 - gradient_norm: 2.9169 - val_det_loss: 0.3797 - val_cls_loss: 0.3034 - val_box_loss: 0.0015 - val_reg_l2_loss: 0.0928 - val_loss: 0.4725\n",
            "Epoch 13/25\n",
            "87/87 [==============================] - 41s 471ms/step - det_loss: 0.9016 - cls_loss: 0.5263 - box_loss: 0.0075 - reg_l2_loss: 0.0928 - loss: 0.9944 - learning_rate: 0.0023 - gradient_norm: 3.1283 - val_det_loss: 0.3970 - val_cls_loss: 0.3265 - val_box_loss: 0.0014 - val_reg_l2_loss: 0.0928 - val_loss: 0.4898\n",
            "Epoch 14/25\n",
            "87/87 [==============================] - 39s 449ms/step - det_loss: 0.8927 - cls_loss: 0.5244 - box_loss: 0.0074 - reg_l2_loss: 0.0928 - loss: 0.9854 - learning_rate: 0.0020 - gradient_norm: 2.9323 - val_det_loss: 0.4382 - val_cls_loss: 0.3500 - val_box_loss: 0.0018 - val_reg_l2_loss: 0.0928 - val_loss: 0.5310\n",
            "Epoch 15/25\n",
            "87/87 [==============================] - 42s 478ms/step - det_loss: 0.8716 - cls_loss: 0.5135 - box_loss: 0.0072 - reg_l2_loss: 0.0928 - loss: 0.9644 - learning_rate: 0.0017 - gradient_norm: 3.0042 - val_det_loss: 0.3688 - val_cls_loss: 0.3098 - val_box_loss: 0.0012 - val_reg_l2_loss: 0.0928 - val_loss: 0.4615\n",
            "Epoch 16/25\n",
            "87/87 [==============================] - 39s 446ms/step - det_loss: 0.9024 - cls_loss: 0.5304 - box_loss: 0.0074 - reg_l2_loss: 0.0928 - loss: 0.9951 - learning_rate: 0.0014 - gradient_norm: 2.8800 - val_det_loss: 0.3791 - val_cls_loss: 0.3221 - val_box_loss: 0.0011 - val_reg_l2_loss: 0.0928 - val_loss: 0.4719\n",
            "Epoch 17/25\n",
            "87/87 [==============================] - 39s 447ms/step - det_loss: 0.8764 - cls_loss: 0.5165 - box_loss: 0.0072 - reg_l2_loss: 0.0928 - loss: 0.9691 - learning_rate: 0.0011 - gradient_norm: 2.7980 - val_det_loss: 0.4030 - val_cls_loss: 0.3397 - val_box_loss: 0.0013 - val_reg_l2_loss: 0.0928 - val_loss: 0.4958\n",
            "Epoch 18/25\n",
            "87/87 [==============================] - 41s 469ms/step - det_loss: 0.8856 - cls_loss: 0.5171 - box_loss: 0.0074 - reg_l2_loss: 0.0928 - loss: 0.9784 - learning_rate: 8.5287e-04 - gradient_norm: 2.9630 - val_det_loss: 0.4140 - val_cls_loss: 0.3451 - val_box_loss: 0.0014 - val_reg_l2_loss: 0.0928 - val_loss: 0.5068\n",
            "Epoch 19/25\n",
            "87/87 [==============================] - 39s 446ms/step - det_loss: 0.8789 - cls_loss: 0.5179 - box_loss: 0.0072 - reg_l2_loss: 0.0928 - loss: 0.9716 - learning_rate: 6.2180e-04 - gradient_norm: 2.9511 - val_det_loss: 0.4175 - val_cls_loss: 0.3471 - val_box_loss: 0.0014 - val_reg_l2_loss: 0.0928 - val_loss: 0.5102\n",
            "Epoch 20/25\n",
            "87/87 [==============================] - 41s 467ms/step - det_loss: 0.8647 - cls_loss: 0.5106 - box_loss: 0.0071 - reg_l2_loss: 0.0928 - loss: 0.9575 - learning_rate: 4.2287e-04 - gradient_norm: 3.0884 - val_det_loss: 0.4081 - val_cls_loss: 0.3355 - val_box_loss: 0.0015 - val_reg_l2_loss: 0.0928 - val_loss: 0.5009\n",
            "Epoch 21/25\n",
            "87/87 [==============================] - 39s 448ms/step - det_loss: 0.8640 - cls_loss: 0.5089 - box_loss: 0.0071 - reg_l2_loss: 0.0928 - loss: 0.9567 - learning_rate: 2.5947e-04 - gradient_norm: 2.9753 - val_det_loss: 0.4152 - val_cls_loss: 0.3413 - val_box_loss: 0.0015 - val_reg_l2_loss: 0.0927 - val_loss: 0.5079\n",
            "Epoch 22/25\n",
            "87/87 [==============================] - 40s 455ms/step - det_loss: 0.8723 - cls_loss: 0.5134 - box_loss: 0.0072 - reg_l2_loss: 0.0927 - loss: 0.9651 - learning_rate: 1.3441e-04 - gradient_norm: 3.1701 - val_det_loss: 0.4194 - val_cls_loss: 0.3424 - val_box_loss: 0.0015 - val_reg_l2_loss: 0.0927 - val_loss: 0.5122\n",
            "Epoch 23/25\n",
            "87/87 [==============================] - 40s 462ms/step - det_loss: 0.8658 - cls_loss: 0.5120 - box_loss: 0.0071 - reg_l2_loss: 0.0927 - loss: 0.9585 - learning_rate: 4.9833e-05 - gradient_norm: 3.0030 - val_det_loss: 0.4143 - val_cls_loss: 0.3399 - val_box_loss: 0.0015 - val_reg_l2_loss: 0.0927 - val_loss: 0.5071\n",
            "Epoch 24/25\n",
            "87/87 [==============================] - 39s 447ms/step - det_loss: 0.8612 - cls_loss: 0.5090 - box_loss: 0.0070 - reg_l2_loss: 0.0927 - loss: 0.9540 - learning_rate: 7.1743e-06 - gradient_norm: 3.2772 - val_det_loss: 0.4188 - val_cls_loss: 0.3424 - val_box_loss: 0.0015 - val_reg_l2_loss: 0.0927 - val_loss: 0.5115\n",
            "Epoch 25/25\n",
            "87/87 [==============================] - 42s 478ms/step - det_loss: 0.8566 - cls_loss: 0.5043 - box_loss: 0.0070 - reg_l2_loss: 0.0927 - loss: 0.9494 - learning_rate: 7.1687e-06 - gradient_norm: 2.9599 - val_det_loss: 0.4169 - val_cls_loss: 0.3408 - val_box_loss: 0.0015 - val_reg_l2_loss: 0.0927 - val_loss: 0.5097\n"
          ]
        }
      ],
      "source": [
        "model = object_detector.create(train_data, model_spec=spec, batch_size=4, train_whole_model=True, epochs=25, validation_data=val_data)"
      ]
    },
    {
      "cell_type": "code",
      "execution_count": null,
      "metadata": {
        "colab": {
          "base_uri": "https://localhost:8080/"
        },
        "id": "KJHPYNNkBGsH",
        "outputId": "dd86e1e1-8f9e-45d2-cb10-7f0c47665e2b"
      },
      "outputs": [
        {
          "output_type": "stream",
          "name": "stdout",
          "text": [
            "\r1/1 [==============================] - 7s 7s/step\n",
            "\n"
          ]
        },
        {
          "output_type": "execute_result",
          "data": {
            "text/plain": [
              "{'AP': 0.7595155,\n",
              " 'AP50': 1.0,\n",
              " 'AP75': 0.95383936,\n",
              " 'APs': -1.0,\n",
              " 'APm': 0.81815183,\n",
              " 'APl': 0.75698835,\n",
              " 'ARmax1': 0.3074074,\n",
              " 'ARmax10': 0.8074074,\n",
              " 'ARmax100': 0.8074074,\n",
              " 'ARs': -1.0,\n",
              " 'ARm': 0.8428571,\n",
              " 'ARl': 0.80212766,\n",
              " 'AP_/ffb': 0.7595155}"
            ]
          },
          "metadata": {},
          "execution_count": 9
        }
      ],
      "source": [
        "model.evaluate(val_data)"
      ]
    },
    {
      "cell_type": "code",
      "source": [
        "{'AP': 0.75924647,\n",
        " 'AP50': 0.99964,\n",
        " 'AP75': 0.97592854,\n",
        " 'APs': -1.0,\n",
        " 'APm': 0.71507347,\n",
        " 'APl': 0.7652959,\n",
        " 'ARmax1': 0.30555555,\n",
        " 'ARmax10': 0.8111111,\n",
        " 'ARmax100': 0.8111111,\n",
        " 'ARs': -1.0,\n",
        " 'ARm': 0.7714286,\n",
        " 'ARl': 0.81702125,\n",
        " 'AP_/ffb': 0.75924647}"
      ],
      "metadata": {
        "id": "PwcTSb0qY0Oj"
      },
      "execution_count": null,
      "outputs": []
    },
    {
      "cell_type": "code",
      "execution_count": null,
      "metadata": {
        "id": "Gc3uqSLODomv"
      },
      "outputs": [],
      "source": [
        "tflite_fn = f'android-ffb-count{VERSION_EFF_LITE}.tflite'\n",
        "model.export(export_dir='.', tflite_filename=tflite_fn)"
      ]
    },
    {
      "cell_type": "code",
      "execution_count": null,
      "metadata": {
        "colab": {
          "base_uri": "https://localhost:8080/"
        },
        "id": "6jTWEwBHEura",
        "outputId": "1c0b182a-293e-4b7a-c280-9011ca5fe397"
      },
      "outputs": [
        {
          "output_type": "stream",
          "name": "stdout",
          "text": [
            "20/20 [==============================] - 359s 18s/step\n",
            "\n"
          ]
        },
        {
          "output_type": "execute_result",
          "data": {
            "text/plain": [
              "{'AP': 0.7364692,\n",
              " 'AP50': 1.0,\n",
              " 'AP75': 0.92959297,\n",
              " 'APs': -1.0,\n",
              " 'APm': 0.73640263,\n",
              " 'APl': 0.7369886,\n",
              " 'ARmax1': 0.2888889,\n",
              " 'ARmax10': 0.7925926,\n",
              " 'ARmax100': 0.7925926,\n",
              " 'ARs': -1.0,\n",
              " 'ARm': 0.7714286,\n",
              " 'ARl': 0.79574466,\n",
              " 'AP_/ffb': 0.7364692}"
            ]
          },
          "metadata": {},
          "execution_count": 21
        }
      ],
      "source": [
        "model.evaluate_tflite(tflite_fn, val_data) "
      ]
    },
    {
      "cell_type": "code",
      "execution_count": null,
      "metadata": {
        "colab": {
          "base_uri": "https://localhost:8080/",
          "height": 34
        },
        "id": "5VH_aqWeE5Gc",
        "outputId": "b3bcc13b-d3bf-4394-f246-d1281c3757d9"
      },
      "outputs": [
        {
          "output_type": "display_data",
          "data": {
            "text/plain": [
              "<IPython.core.display.Javascript object>"
            ],
            "application/javascript": [
              "\n",
              "    async function download(id, filename, size) {\n",
              "      if (!google.colab.kernel.accessAllowed) {\n",
              "        return;\n",
              "      }\n",
              "      const div = document.createElement('div');\n",
              "      const label = document.createElement('label');\n",
              "      label.textContent = `Downloading \"${filename}\": `;\n",
              "      div.appendChild(label);\n",
              "      const progress = document.createElement('progress');\n",
              "      progress.max = size;\n",
              "      div.appendChild(progress);\n",
              "      document.body.appendChild(div);\n",
              "\n",
              "      const buffers = [];\n",
              "      let downloaded = 0;\n",
              "\n",
              "      const channel = await google.colab.kernel.comms.open(id);\n",
              "      // Send a message to notify the kernel that we're ready.\n",
              "      channel.send({})\n",
              "\n",
              "      for await (const message of channel.messages) {\n",
              "        // Send a message to notify the kernel that we're ready.\n",
              "        channel.send({})\n",
              "        if (message.buffers) {\n",
              "          for (const buffer of message.buffers) {\n",
              "            buffers.push(buffer);\n",
              "            downloaded += buffer.byteLength;\n",
              "            progress.value = downloaded;\n",
              "          }\n",
              "        }\n",
              "      }\n",
              "      const blob = new Blob(buffers, {type: 'application/binary'});\n",
              "      const a = document.createElement('a');\n",
              "      a.href = window.URL.createObjectURL(blob);\n",
              "      a.download = filename;\n",
              "      div.appendChild(a);\n",
              "      a.click();\n",
              "      div.remove();\n",
              "    }\n",
              "  "
            ]
          },
          "metadata": {}
        },
        {
          "output_type": "display_data",
          "data": {
            "text/plain": [
              "<IPython.core.display.Javascript object>"
            ],
            "application/javascript": [
              "download(\"download_13fff73b-6dff-446e-95c0-174ec63d7d9d\", \"android-ffb-count3.tflite\", 11728026)"
            ]
          },
          "metadata": {}
        }
      ],
      "source": [
        "from google.colab import files\n",
        "files.download(tflite_fn)"
      ]
    },
    {
      "cell_type": "code",
      "execution_count": null,
      "metadata": {
        "colab": {
          "base_uri": "https://localhost:8080/",
          "height": 235
        },
        "id": "5RO3S4yXFSPc",
        "outputId": "e96bef0c-f9f6-4d45-d5ba-4d7bb3d9fac5"
      },
      "outputs": [
        {
          "ename": "NameError",
          "evalue": "ignored",
          "output_type": "error",
          "traceback": [
            "\u001b[0;31m---------------------------------------------------------------------------\u001b[0m",
            "\u001b[0;31mNameError\u001b[0m                                 Traceback (most recent call last)",
            "\u001b[0;32m<ipython-input-39-0dcbc5530c58>\u001b[0m in \u001b[0;36m<module>\u001b[0;34m\u001b[0m\n\u001b[1;32m     24\u001b[0m \u001b[0;34m\u001b[0m\u001b[0m\n\u001b[1;32m     25\u001b[0m \u001b[0;31m# Load the TFLite model\u001b[0m\u001b[0;34m\u001b[0m\u001b[0;34m\u001b[0m\u001b[0;34m\u001b[0m\u001b[0m\n\u001b[0;32m---> 26\u001b[0;31m options = ObjectDetectorOptions(\n\u001b[0m\u001b[1;32m     27\u001b[0m       \u001b[0mnum_threads\u001b[0m\u001b[0;34m=\u001b[0m\u001b[0;36m4\u001b[0m\u001b[0;34m,\u001b[0m\u001b[0;34m\u001b[0m\u001b[0;34m\u001b[0m\u001b[0m\n\u001b[1;32m     28\u001b[0m       \u001b[0mscore_threshold\u001b[0m\u001b[0;34m=\u001b[0m\u001b[0mDETECTION_THRESHOLD\u001b[0m\u001b[0;34m,\u001b[0m\u001b[0;34m\u001b[0m\u001b[0;34m\u001b[0m\u001b[0m\n",
            "\u001b[0;31mNameError\u001b[0m: name 'ObjectDetectorOptions' is not defined"
          ]
        }
      ],
      "source": [
        "\n",
        "\n",
        "from PIL import Image\n",
        "\n",
        "INPUT_IMAGE_URL = \"http://download.tensorflow.org/example_images/android_figurine.jpg\" #@param {type:\"string\"}\n",
        "DETECTION_THRESHOLD = 0.5 #@param {type:\"number\"}\n",
        "TFLITE_MODEL_PATH = \"android-ffb-count.tflite\" #@param {type:\"string\"}\n",
        "\n",
        "TEMP_FILE = '/tmp/image.png'\n",
        "\n",
        "!wget -q -O $TEMP_FILE $INPUT_IMAGE_URL\n",
        "image = Image.open(TEMP_FILE).convert('RGB')\n",
        "image.thumbnail((512, 512), Image.ANTIALIAS)\n",
        "image_np = np.asarray(image)\n",
        "\n",
        "# Load the TFLite model\n",
        "options = ObjectDetectorOptions(\n",
        "      num_threads=4,\n",
        "      score_threshold=DETECTION_THRESHOLD,\n",
        ")\n",
        "detector = ObjectDetector(model_path=TFLITE_MODEL_PATH, options=options)\n",
        "\n",
        "# Run object detection estimation using the model.\n",
        "detections = detector.detect(image_np)\n",
        "\n",
        "# Draw keypoints and edges on input image\n",
        "image_np = visualize(image_np, detections)\n",
        "\n",
        "# Show the detection result\n",
        "Image.fromarray(image_np)"
      ]
    },
    {
      "cell_type": "code",
      "execution_count": null,
      "metadata": {
        "id": "eWZTyQ4EGypw"
      },
      "outputs": [],
      "source": []
    }
  ],
  "metadata": {
    "accelerator": "GPU",
    "colab": {
      "provenance": [],
      "mount_file_id": "1yWnWJtrQtzy7hXWkGQdMZuhEcawoqVL_",
      "authorship_tag": "ABX9TyPgbjSZIa+/MNVRlmTPnTyH",
      "include_colab_link": true
    },
    "kernelspec": {
      "display_name": "Python 3",
      "name": "python3"
    },
    "language_info": {
      "name": "python"
    }
  },
  "nbformat": 4,
  "nbformat_minor": 0
}